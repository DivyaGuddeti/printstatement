{
 "cells": [
  {
   "cell_type": "markdown",
   "id": "fcf76b9f-eb40-4a0c-967e-26097285c891",
   "metadata": {},
   "source": [
    "# Print statement"
   ]
  },
  {
   "cell_type": "code",
   "execution_count": 1,
   "id": "c774d6d9-6b14-4598-ad9b-5987e854a94d",
   "metadata": {},
   "outputs": [
    {
     "data": {
      "text/plain": [
       "20"
      ]
     },
     "execution_count": 1,
     "metadata": {},
     "output_type": "execute_result"
    }
   ],
   "source": [
    "a = 10\n",
    "b = 20\n",
    "\n",
    "a\n",
    "b"
   ]
  },
  {
   "cell_type": "code",
   "execution_count": 2,
   "id": "76f19786-a4f8-4678-9d70-e43a25d19528",
   "metadata": {},
   "outputs": [
    {
     "name": "stdout",
     "output_type": "stream",
     "text": [
      "10\n",
      "20\n"
     ]
    }
   ],
   "source": [
    "a = 10\n",
    "b = 20\n",
    "\n",
    "print(a)\n",
    "print(b)"
   ]
  },
  {
   "cell_type": "code",
   "execution_count": 3,
   "id": "69e726f7-d1d1-48d4-a59b-5869a4d970aa",
   "metadata": {},
   "outputs": [
    {
     "name": "stdout",
     "output_type": "stream",
     "text": [
      "10\n",
      "20\n",
      "Python\n",
      "10 20 Python\n"
     ]
    }
   ],
   "source": [
    "print(10)\n",
    "print(20)\n",
    "print('Python')\n",
    "print(10,20,'Python')"
   ]
  },
  {
   "cell_type": "code",
   "execution_count": 4,
   "id": "cf6a607c-e0d6-47ba-a170-1621018935ca",
   "metadata": {},
   "outputs": [
    {
     "name": "stdout",
     "output_type": "stream",
     "text": [
      "50\n"
     ]
    }
   ],
   "source": [
    "num1 = 20\n",
    "num2 = 30\n",
    "add = num1 + num2\n",
    "\n",
    "print(add)"
   ]
  },
  {
   "cell_type": "markdown",
   "id": "78fc696a-d110-4503-80db-92e9c8538d28",
   "metadata": {},
   "source": [
    "# Print with result"
   ]
  },
  {
   "cell_type": "code",
   "execution_count": 5,
   "id": "15fd0a42-9686-4df4-bfe4-9f1402435695",
   "metadata": {},
   "outputs": [
    {
     "data": {
      "text/plain": [
       "10"
      ]
     },
     "execution_count": 5,
     "metadata": {},
     "output_type": "execute_result"
    }
   ],
   "source": [
    "a"
   ]
  },
  {
   "cell_type": "code",
   "execution_count": 6,
   "id": "d6323c46-33ec-4e7e-9fb6-c947aa610580",
   "metadata": {},
   "outputs": [
    {
     "name": "stdout",
     "output_type": "stream",
     "text": [
      "Addition of 20 and 46 is 66\n"
     ]
    }
   ],
   "source": [
    "n1 = 20\n",
    "n2 = 46\n",
    "\n",
    "add = n1 + n2\n",
    "\n",
    "print(\"Addition of\", n1, \"and\", n2, \"is\", add)"
   ]
  },
  {
   "cell_type": "code",
   "execution_count": 10,
   "id": "09f7e997-8bab-4049-8ef6-6d6314c4cd4d",
   "metadata": {},
   "outputs": [
    {
     "name": "stdout",
     "output_type": "stream",
     "text": [
      "My name is SaiDivya I am 30 years old and lives in USA\n"
     ]
    }
   ],
   "source": [
    "name = \"SaiDivya\"\n",
    "age = 30\n",
    "place = \"USA\"\n",
    "\n",
    "print(\"My name is\", name, \"I am\", age, \"years old and lives in\", place)"
   ]
  },
  {
   "cell_type": "markdown",
   "id": "6a7b4857-95a7-43fc-8631-5ec4efde1d57",
   "metadata": {},
   "source": [
    "# Formatted string"
   ]
  },
  {
   "cell_type": "code",
   "execution_count": 12,
   "id": "a053b9e0-0f6c-4222-ad2a-2200af7be3d5",
   "metadata": {},
   "outputs": [
    {
     "name": "stdout",
     "output_type": "stream",
     "text": [
      "Addition of 45, 67 and 798 is 910\n"
     ]
    }
   ],
   "source": [
    "n1 = 45\n",
    "n2 = 67\n",
    "n3 = 798\n",
    "add = n1+n2+n3\n",
    "\n",
    "print(\"Addition of {}, {} and {} is {}\".format(n1,n2,n3,add))"
   ]
  },
  {
   "cell_type": "code",
   "execution_count": 13,
   "id": "bf8e3d7e-54ff-4992-b3bf-8681fe0a3bf7",
   "metadata": {},
   "outputs": [
    {
     "name": "stdout",
     "output_type": "stream",
     "text": [
      "My name is SaiDivya, I'm 30 years old and lives in USA\n"
     ]
    }
   ],
   "source": [
    "name = \"SaiDivya\"\n",
    "age = 30\n",
    "place = \"USA\"\n",
    "\n",
    "print(\"My name is {}, I'm {} years old and lives in {}\".format(name,age,place))"
   ]
  },
  {
   "cell_type": "code",
   "execution_count": 17,
   "id": "f7111047-6c29-4406-8b42-fad7106d1786",
   "metadata": {},
   "outputs": [
    {
     "name": "stdout",
     "output_type": "stream",
     "text": [
      "Average of 13,97 and 97 is 42.333333333333336 and 42.33\n"
     ]
    }
   ],
   "source": [
    "num1 = 13\n",
    "num2 = 97\n",
    "num3 = 17\n",
    "\n",
    "avg = (num1 + num2 + num3)/3\n",
    "avg1 = round((num1 + num2 + num3)/3,2)\n",
    "print(\"Average of {},{} and {} is {} and {}\".format(num1,num2,num2,avg,avg1))"
   ]
  },
  {
   "cell_type": "markdown",
   "id": "14f493c9-3113-4f29-ab9e-0b44dd672f7a",
   "metadata": {},
   "source": [
    "# Formatted String"
   ]
  },
  {
   "cell_type": "code",
   "execution_count": null,
   "id": "d9d2ad9b-4493-4a44-80d1-a19890424a47",
   "metadata": {},
   "outputs": [],
   "source": [
    "n1 = 16\n",
    "n2 = 44\n",
    "n3 = 292\n",
    "\n",
    "print(f\"Addition of {n1},{n2} and {n3} is)"
   ]
  }
 ],
 "metadata": {
  "kernelspec": {
   "display_name": "Python 3 (ipykernel)",
   "language": "python",
   "name": "python3"
  },
  "language_info": {
   "codemirror_mode": {
    "name": "ipython",
    "version": 3
   },
   "file_extension": ".py",
   "mimetype": "text/x-python",
   "name": "python",
   "nbconvert_exporter": "python",
   "pygments_lexer": "ipython3",
   "version": "3.12.7"
  }
 },
 "nbformat": 4,
 "nbformat_minor": 5
}
